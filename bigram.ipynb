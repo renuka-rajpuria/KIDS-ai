{
 "cells": [
  {
   "cell_type": "code",
   "execution_count": 11,
   "id": "c2b9e332",
   "metadata": {},
   "outputs": [],
   "source": [
    "# Libraries needed for the tutorial\n",
    "import pandas as pd\n",
    "import requests\n",
    "import io"
   ]
  },
  {
   "cell_type": "code",
   "execution_count": 37,
   "id": "943dbee0",
   "metadata": {},
   "outputs": [
    {
     "data": {
      "text/plain": [
       "str"
      ]
     },
     "execution_count": 37,
     "metadata": {},
     "output_type": "execute_result"
    }
   ],
   "source": [
    "# Downloading the csv file from your GitHub account\n",
    "\n",
    "url = \"https://raw.githubusercontent.com/karpathy/char-rnn/master/data/tinyshakespeare/input.txt\" # Make sure the url is the raw version of the file on GitHub\n",
    "text = requests.get(url).content\n",
    "text = str(text)\n",
    "type(text)\n"
   ]
  },
  {
   "cell_type": "code",
   "execution_count": 38,
   "id": "299e1b5a",
   "metadata": {
    "scrolled": true
   },
   "outputs": [
    {
     "name": "stdout",
     "output_type": "stream",
     "text": [
      "length of dataset in characters:  1155397\n"
     ]
    }
   ],
   "source": [
    "print(\"length of dataset in characters: \", len(text))"
   ]
  },
  {
   "cell_type": "code",
   "execution_count": 39,
   "id": "7621c05c",
   "metadata": {
    "scrolled": false
   },
   "outputs": [
    {
     "name": "stdout",
     "output_type": "stream",
     "text": [
      "b\"First Citizen:\\nBefore we proceed any further, hear me speak.\\n\\nAll:\\nSpeak, speak.\\n\\nFirst Citizen:\\nYou are all resolved rather to die than to famish?\\n\\nAll:\\nResolved. resolved.\\n\\nFirst Citizen:\\nFirst, you know Caius Marcius is chief enemy to the people.\\n\\nAll:\\nWe know't, we know't.\\n\\nFirst Citizen:\\nLet us kill him, and we'll have corn at our own price.\\nIs't a verdict?\\n\\nAll:\\nNo more talking on't; let it be done: away, away!\\n\\nSecond Citizen:\\nOne word, good citizens.\\n\\nFirst Citizen:\\nWe are accounted poor citizens, the patricians good.\\nWhat authority surfeits on would relieve us: if they\\nwould yield us but the superfluity, while it were\\nwholesome, we might guess they relieved us humanely;\\nbut they think we are too dear: the leanness that\\nafflicts us, the object of our misery, is as an\\ninventory to particularise their abundance; our\\nsufferance is a gain to them Let us revenge this with\\nour pikes, ere we become rakes: for the gods know I\\nspeak this in hunger\n"
     ]
    }
   ],
   "source": [
    "# let's look at the first 1000 characters\n",
    "print(text[:1000])"
   ]
  },
  {
   "cell_type": "code",
   "execution_count": 40,
   "id": "09c6d324",
   "metadata": {
    "scrolled": false
   },
   "outputs": [
    {
     "name": "stdout",
     "output_type": "stream",
     "text": [
      " !\"$&',-.3:;?ABCDEFGHIJKLMNOPQRSTUVWXYZ\\abcdefghijklmnopqrstuvwxyz\n",
      "66\n"
     ]
    }
   ],
   "source": [
    "# here are all the unique characters that occur in this text\n",
    "chars = sorted(list(set(text)))\n",
    "vocab_size = len(chars)\n",
    "print(''.join(chars))\n",
    "print(vocab_size)"
   ]
  },
  {
   "cell_type": "code",
   "execution_count": 41,
   "id": "f57141c8",
   "metadata": {
    "scrolled": true
   },
   "outputs": [
    {
     "name": "stdout",
     "output_type": "stream",
     "text": [
      "[47, 48, 48, 0, 59, 47, 44, 57, 44]\n",
      "hii there\n"
     ]
    }
   ],
   "source": [
    "# create a mapping from characters to integers\n",
    "stoi = { ch:i for i,ch in enumerate(chars) }\n",
    "itos = { i:ch for i,ch in enumerate(chars) }\n",
    "encode = lambda s: [stoi[c] for c in s] # encoder: take a string, output a list of integers\n",
    "decode = lambda l: ''.join([itos[i] for i in l]) # decoder: take a list of integers, output a string\n",
    "\n",
    "print(encode(\"hii there\"))\n",
    "print(decode(encode(\"hii there\")))"
   ]
  },
  {
   "cell_type": "code",
   "execution_count": 34,
   "id": "9c3b92e1",
   "metadata": {},
   "outputs": [
    {
     "name": "stdout",
     "output_type": "stream",
     "text": [
      "Requirement already satisfied: torch in /Users/student/anaconda3/lib/python3.10/site-packages (1.12.1)\r\n",
      "Requirement already satisfied: typing_extensions in /Users/student/anaconda3/lib/python3.10/site-packages (from torch) (4.4.0)\r\n"
     ]
    }
   ],
   "source": [
    "!pip install torch"
   ]
  },
  {
   "cell_type": "code",
   "execution_count": 42,
   "id": "141195d7",
   "metadata": {},
   "outputs": [
    {
     "name": "stdout",
     "output_type": "stream",
     "text": [
      "torch.Size([1155397]) torch.int64\n",
      "tensor([41,  2, 18, 48, 57, 58, 59,  0, 15, 48, 59, 48, 65, 44, 53, 10, 39, 53,\n",
      "        14, 44, 45, 54, 57, 44,  0, 62, 44,  0, 55, 57, 54, 42, 44, 44, 43,  0,\n",
      "        40, 53, 64,  0, 45, 60, 57, 59, 47, 44, 57,  6,  0, 47, 44, 40, 57,  0,\n",
      "        52, 44,  0, 58, 55, 44, 40, 50,  8, 39, 53, 39, 53, 13, 51, 51, 10, 39,\n",
      "        53, 31, 55, 44, 40, 50,  6,  0, 58, 55, 44, 40, 50,  8, 39, 53, 39, 53,\n",
      "        18, 48, 57, 58, 59,  0, 15, 48, 59, 48, 65, 44, 53, 10, 39, 53, 37, 54,\n",
      "        60,  0, 40, 57, 44,  0, 40, 51, 51,  0, 57, 44, 58, 54, 51, 61, 44, 43,\n",
      "         0, 57, 40, 59, 47, 44, 57,  0, 59, 54,  0, 43, 48, 44,  0, 59, 47, 40,\n",
      "        53,  0, 59, 54,  0, 45, 40, 52, 48, 58, 47, 12, 39, 53, 39, 53, 13, 51,\n",
      "        51, 10, 39, 53, 30, 44, 58, 54, 51, 61, 44, 43,  8,  0, 57, 44, 58, 54,\n",
      "        51, 61, 44, 43,  8, 39, 53, 39, 53, 18, 48, 57, 58, 59,  0, 15, 48, 59,\n",
      "        48, 65, 44, 53, 10, 39, 53, 18, 48, 57, 58, 59,  6,  0, 64, 54, 60,  0,\n",
      "        50, 53, 54, 62,  0, 15, 40, 48, 60, 58,  0, 25, 40, 57, 42, 48, 60, 58,\n",
      "         0, 48, 58,  0, 42, 47, 48, 44, 45,  0, 44, 53, 44, 52, 64,  0, 59, 54,\n",
      "         0, 59, 47, 44,  0, 55, 44, 54, 55, 51, 44,  8, 39, 53, 39, 53, 13, 51,\n",
      "        51, 10, 39, 53, 35, 44,  0, 50, 53, 54, 62,  5, 59,  6,  0, 62, 44,  0,\n",
      "        50, 53, 54, 62,  5, 59,  8, 39, 53, 39, 53, 18, 48, 57, 58, 59,  0, 15,\n",
      "        48, 59, 48, 65, 44, 53, 10, 39, 53, 24, 44, 59,  0, 60, 58,  0, 50, 48,\n",
      "        51, 51,  0, 47, 48, 52,  6,  0, 40, 53, 43,  0, 62, 44,  5, 51, 51,  0,\n",
      "        47, 40, 61, 44,  0, 42, 54, 57, 53,  0, 40, 59,  0, 54, 60, 57,  0, 54,\n",
      "        62, 53,  0, 55, 57, 48, 42, 44,  8, 39, 53, 21, 58,  5, 59,  0, 40,  0,\n",
      "        61, 44, 57, 43, 48, 42, 59, 12, 39, 53, 39, 53, 13, 51, 51, 10, 39, 53,\n",
      "        26, 54,  0, 52, 54, 57, 44,  0, 59, 40, 51, 50, 48, 53, 46,  0, 54, 53,\n",
      "         5, 59, 11,  0, 51, 44, 59,  0, 48, 59,  0, 41, 44,  0, 43, 54, 53, 44,\n",
      "        10,  0, 40, 62, 40, 64,  6,  0, 40, 62, 40, 64,  1, 39, 53, 39, 53, 31,\n",
      "        44, 42, 54, 53, 43,  0, 15, 48, 59, 48, 65, 44, 53, 10, 39, 53, 27, 53,\n",
      "        44,  0, 62, 54, 57, 43,  6,  0, 46, 54, 54, 43,  0, 42, 48, 59, 48, 65,\n",
      "        44, 53, 58,  8, 39, 53, 39, 53, 18, 48, 57, 58, 59,  0, 15, 48, 59, 48,\n",
      "        65, 44, 53, 10, 39, 53, 35, 44,  0, 40, 57, 44,  0, 40, 42, 42, 54, 60,\n",
      "        53, 59, 44, 43,  0, 55, 54, 54, 57,  0, 42, 48, 59, 48, 65, 44, 53, 58,\n",
      "         6,  0, 59, 47, 44,  0, 55, 40, 59, 57, 48, 42, 48, 40, 53, 58,  0, 46,\n",
      "        54, 54, 43,  8, 39, 53, 35, 47, 40, 59,  0, 40, 60, 59, 47, 54, 57, 48,\n",
      "        59, 64,  0, 58, 60, 57, 45, 44, 48, 59, 58,  0, 54, 53,  0, 62, 54, 60,\n",
      "        51, 43,  0, 57, 44, 51, 48, 44, 61, 44,  0, 60, 58, 10,  0, 48, 45,  0,\n",
      "        59, 47, 44, 64, 39, 53, 62, 54, 60, 51, 43,  0, 64, 48, 44, 51, 43,  0,\n",
      "        60, 58,  0, 41, 60, 59,  0, 59, 47, 44,  0, 58, 60, 55, 44, 57, 45, 51,\n",
      "        60, 48, 59, 64,  6,  0, 62, 47, 48, 51, 44,  0, 48, 59,  0, 62, 44, 57,\n",
      "        44, 39, 53, 62, 47, 54, 51, 44, 58, 54, 52, 44,  6,  0, 62, 44,  0, 52,\n",
      "        48, 46, 47, 59,  0, 46, 60, 44, 58, 58,  0, 59, 47, 44, 64,  0, 57, 44,\n",
      "        51, 48, 44, 61, 44, 43,  0, 60, 58,  0, 47, 60, 52, 40, 53, 44, 51, 64,\n",
      "        11, 39, 53, 41, 60, 59,  0, 59, 47, 44, 64,  0, 59, 47, 48, 53, 50,  0,\n",
      "        62, 44,  0, 40, 57, 44,  0, 59, 54, 54,  0, 43, 44, 40, 57, 10,  0, 59,\n",
      "        47, 44,  0, 51, 44, 40, 53, 53, 44, 58, 58,  0, 59, 47, 40, 59, 39, 53,\n",
      "        40, 45, 45, 51, 48, 42, 59, 58,  0, 60, 58,  6,  0, 59, 47, 44,  0, 54,\n",
      "        41, 49, 44, 42, 59,  0, 54, 45,  0, 54, 60, 57,  0, 52, 48, 58, 44, 57,\n",
      "        64,  6,  0, 48, 58,  0, 40, 58,  0, 40, 53, 39, 53, 48, 53, 61, 44, 53,\n",
      "        59, 54, 57, 64,  0, 59, 54,  0, 55, 40, 57, 59, 48, 42, 60, 51, 40, 57,\n",
      "        48, 58, 44,  0, 59, 47, 44, 48, 57,  0, 40, 41, 60, 53, 43, 40, 53, 42,\n",
      "        44, 11,  0, 54, 60, 57, 39, 53, 58, 60, 45, 45, 44, 57, 40, 53, 42, 44,\n",
      "         0, 48, 58,  0, 40,  0, 46, 40, 48, 53,  0, 59, 54,  0, 59, 47, 44, 52,\n",
      "         0, 24, 44, 59,  0, 60, 58,  0, 57, 44, 61, 44, 53, 46, 44,  0, 59, 47,\n",
      "        48, 58,  0, 62, 48, 59, 47, 39, 53, 54, 60, 57,  0, 55, 48, 50, 44, 58,\n",
      "         6,  0, 44, 57, 44,  0, 62, 44,  0, 41, 44, 42, 54, 52, 44,  0, 57, 40,\n",
      "        50, 44, 58, 10,  0, 45, 54, 57,  0, 59, 47, 44,  0, 46, 54, 43, 58,  0,\n",
      "        50, 53, 54, 62,  0, 21, 39, 53, 58, 55, 44, 40, 50,  0, 59, 47, 48, 58,\n",
      "         0, 48, 53,  0, 47, 60, 53, 46, 44, 57])\n"
     ]
    }
   ],
   "source": [
    "# let's now encode the entire text dataset and store it into a torch.Tensor\n",
    "import torch # we use PyTorch: https://pytorch.org\n",
    "data = torch.tensor(encode(text), dtype=torch.long)\n",
    "print(data.shape, data.dtype)\n",
    "print(data[:1000]) # the 1000 characters we looked at earier will to the GPT look like this"
   ]
  },
  {
   "cell_type": "code",
   "execution_count": 43,
   "id": "c9212c06",
   "metadata": {},
   "outputs": [],
   "source": [
    "# Let's now split up the data into train and validation sets\n",
    "n = int(0.9*len(data)) # first 90% will be train, rest val\n",
    "train_data = data[:n]\n",
    "val_data = data[n:]"
   ]
  },
  {
   "cell_type": "code",
   "execution_count": 44,
   "id": "96bbf052",
   "metadata": {},
   "outputs": [
    {
     "data": {
      "text/plain": [
       "tensor([41,  2, 18, 48, 57, 58, 59,  0, 15])"
      ]
     },
     "execution_count": 44,
     "metadata": {},
     "output_type": "execute_result"
    }
   ],
   "source": [
    "block_size = 8\n",
    "train_data[:block_size+1]"
   ]
  },
  {
   "cell_type": "code",
   "execution_count": 45,
   "id": "512d2c8d",
   "metadata": {
    "scrolled": true
   },
   "outputs": [
    {
     "name": "stdout",
     "output_type": "stream",
     "text": [
      "when input is tensor([41]) the target: 2\n",
      "when input is tensor([41,  2]) the target: 18\n",
      "when input is tensor([41,  2, 18]) the target: 48\n",
      "when input is tensor([41,  2, 18, 48]) the target: 57\n",
      "when input is tensor([41,  2, 18, 48, 57]) the target: 58\n",
      "when input is tensor([41,  2, 18, 48, 57, 58]) the target: 59\n",
      "when input is tensor([41,  2, 18, 48, 57, 58, 59]) the target: 0\n",
      "when input is tensor([41,  2, 18, 48, 57, 58, 59,  0]) the target: 15\n"
     ]
    }
   ],
   "source": [
    "x = train_data[:block_size]\n",
    "y = train_data[1:block_size+1]\n",
    "for t in range(block_size):\n",
    "    context = x[:t+1]\n",
    "    target = y[t]\n",
    "    print(f\"when input is {context} the target: {target}\")"
   ]
  },
  {
   "cell_type": "code",
   "execution_count": 46,
   "id": "2df5a87c",
   "metadata": {
    "scrolled": true
   },
   "outputs": [
    {
     "name": "stdout",
     "output_type": "stream",
     "text": [
      "inputs:\n",
      "torch.Size([4, 8])\n",
      "tensor([[53, 21,  0, 42, 57, 64,  0, 64],\n",
      "        [48, 44, 61, 54, 60, 58,  0, 58],\n",
      "        [53, 14, 57, 48, 53, 46,  0, 52],\n",
      "        [27, 25, 21, 26, 21, 33, 31, 10]])\n",
      "targets:\n",
      "torch.Size([4, 8])\n",
      "tensor([[21,  0, 42, 57, 64,  0, 64, 54],\n",
      "        [44, 61, 54, 60, 58,  0, 58, 48],\n",
      "        [14, 57, 48, 53, 46,  0, 52, 44],\n",
      "        [25, 21, 26, 21, 33, 31, 10, 39]])\n",
      "----\n",
      "when input is [53] the target: 21\n",
      "when input is [53, 21] the target: 0\n",
      "when input is [53, 21, 0] the target: 42\n",
      "when input is [53, 21, 0, 42] the target: 57\n",
      "when input is [53, 21, 0, 42, 57] the target: 64\n",
      "when input is [53, 21, 0, 42, 57, 64] the target: 0\n",
      "when input is [53, 21, 0, 42, 57, 64, 0] the target: 64\n",
      "when input is [53, 21, 0, 42, 57, 64, 0, 64] the target: 54\n",
      "when input is [48] the target: 44\n",
      "when input is [48, 44] the target: 61\n",
      "when input is [48, 44, 61] the target: 54\n",
      "when input is [48, 44, 61, 54] the target: 60\n",
      "when input is [48, 44, 61, 54, 60] the target: 58\n",
      "when input is [48, 44, 61, 54, 60, 58] the target: 0\n",
      "when input is [48, 44, 61, 54, 60, 58, 0] the target: 58\n",
      "when input is [48, 44, 61, 54, 60, 58, 0, 58] the target: 48\n",
      "when input is [53] the target: 14\n",
      "when input is [53, 14] the target: 57\n",
      "when input is [53, 14, 57] the target: 48\n",
      "when input is [53, 14, 57, 48] the target: 53\n",
      "when input is [53, 14, 57, 48, 53] the target: 46\n",
      "when input is [53, 14, 57, 48, 53, 46] the target: 0\n",
      "when input is [53, 14, 57, 48, 53, 46, 0] the target: 52\n",
      "when input is [53, 14, 57, 48, 53, 46, 0, 52] the target: 44\n",
      "when input is [27] the target: 25\n",
      "when input is [27, 25] the target: 21\n",
      "when input is [27, 25, 21] the target: 26\n",
      "when input is [27, 25, 21, 26] the target: 21\n",
      "when input is [27, 25, 21, 26, 21] the target: 33\n",
      "when input is [27, 25, 21, 26, 21, 33] the target: 31\n",
      "when input is [27, 25, 21, 26, 21, 33, 31] the target: 10\n",
      "when input is [27, 25, 21, 26, 21, 33, 31, 10] the target: 39\n"
     ]
    }
   ],
   "source": [
    "torch.manual_seed(1337)\n",
    "batch_size = 4 # how many independent sequences will we process in parallel?\n",
    "block_size = 8 # what is the maximum context length for predictions?\n",
    "\n",
    "def get_batch(split):\n",
    "    # generate a small batch of data of inputs x and targets y\n",
    "    data = train_data if split == 'train' else val_data\n",
    "    ix = torch.randint(len(data) - block_size, (batch_size,))\n",
    "    x = torch.stack([data[i:i+block_size] for i in ix])\n",
    "    y = torch.stack([data[i+1:i+block_size+1] for i in ix])\n",
    "    return x, y\n",
    "\n",
    "xb, yb = get_batch('train')\n",
    "print('inputs:')\n",
    "print(xb.shape)\n",
    "print(xb)\n",
    "print('targets:')\n",
    "print(yb.shape)\n",
    "print(yb)\n",
    "\n",
    "print('----')\n",
    "\n",
    "for b in range(batch_size): # batch dimension\n",
    "    for t in range(block_size): # time dimension\n",
    "        context = xb[b, :t+1]\n",
    "        target = yb[b,t]\n",
    "        print(f\"when input is {context.tolist()} the target: {target}\")"
   ]
  },
  {
   "cell_type": "code",
   "execution_count": 47,
   "id": "7fb46c86",
   "metadata": {},
   "outputs": [
    {
     "name": "stdout",
     "output_type": "stream",
     "text": [
      "tensor([[53, 21,  0, 42, 57, 64,  0, 64],\n",
      "        [48, 44, 61, 54, 60, 58,  0, 58],\n",
      "        [53, 14, 57, 48, 53, 46,  0, 52],\n",
      "        [27, 25, 21, 26, 21, 33, 31, 10]])\n"
     ]
    }
   ],
   "source": [
    "print(xb) # our input to the transformer"
   ]
  },
  {
   "cell_type": "code",
   "execution_count": 48,
   "id": "3bec0a0e",
   "metadata": {},
   "outputs": [
    {
     "name": "stdout",
     "output_type": "stream",
     "text": [
      "torch.Size([32, 66])\n",
      "tensor(4.6840, grad_fn=<NllLossBackward0>)\n",
      " w''T.d;DyFYkXwz.\\amuTIX 'FDEN:llkn!$c\\Rjw.VZmMMP&\\nsIs wd$ygtuNaczZ.G?FJFWjuBG$VkAQsTLSZCoFJRj\\\\Levc\n"
     ]
    }
   ],
   "source": [
    "import torch\n",
    "import torch.nn as nn\n",
    "from torch.nn import functional as F\n",
    "torch.manual_seed(1337)\n",
    "\n",
    "class BigramLanguageModel(nn.Module):\n",
    "\n",
    "    def __init__(self, vocab_size):\n",
    "        super().__init__()\n",
    "        # each token directly reads off the logits for the next token from a lookup table\n",
    "        self.token_embedding_table = nn.Embedding(vocab_size, vocab_size)\n",
    "\n",
    "    def forward(self, idx, targets=None):\n",
    "\n",
    "        # idx and targets are both (B,T) tensor of integers\n",
    "        logits = self.token_embedding_table(idx) # (B,T,C)\n",
    "        \n",
    "        if targets is None:\n",
    "            loss = None\n",
    "        else:\n",
    "            B, T, C = logits.shape\n",
    "            logits = logits.view(B*T, C)\n",
    "            targets = targets.view(B*T)\n",
    "            loss = F.cross_entropy(logits, targets)\n",
    "\n",
    "        return logits, loss\n",
    "    \n",
    "    def generate(self, idx, max_new_tokens):\n",
    "        # idx is (B, T) array of indices in the current context\n",
    "        for _ in range(max_new_tokens):\n",
    "            # get the predictions\n",
    "            logits, loss = self(idx)\n",
    "            # focus only on the last time step\n",
    "            logits = logits[:, -1, :] # becomes (B, C)\n",
    "            # apply softmax to get probabilities\n",
    "            probs = F.softmax(logits, dim=-1) # (B, C)\n",
    "            # sample from the distribution\n",
    "            idx_next = torch.multinomial(probs, num_samples=1) # (B, 1)\n",
    "            # append sampled index to the running sequence\n",
    "            idx = torch.cat((idx, idx_next), dim=1) # (B, T+1)\n",
    "        return idx\n",
    "\n",
    "m = BigramLanguageModel(vocab_size)\n",
    "logits, loss = m(xb, yb)\n",
    "print(logits.shape)\n",
    "print(loss)\n",
    "\n",
    "print(decode(m.generate(idx = torch.zeros((1, 1), dtype=torch.long), max_new_tokens=100)[0].tolist()))\n"
   ]
  },
  {
   "cell_type": "code",
   "execution_count": 49,
   "id": "a38b1794",
   "metadata": {},
   "outputs": [],
   "source": [
    "# create a PyTorch optimizer\n",
    "optimizer = torch.optim.AdamW(m.parameters(), lr=1e-3)"
   ]
  },
  {
   "cell_type": "code",
   "execution_count": 50,
   "id": "38d07d5f",
   "metadata": {},
   "outputs": [
    {
     "name": "stdout",
     "output_type": "stream",
     "text": [
      "4.478081703186035\n"
     ]
    }
   ],
   "source": [
    "batch_size = 32\n",
    "for steps in range(100): # increase number of steps for good results... \n",
    "    \n",
    "    # sample a batch of data\n",
    "    xb, yb = get_batch('train')\n",
    "\n",
    "    # evaluate the loss\n",
    "    logits, loss = m(xb, yb)\n",
    "    optimizer.zero_grad(set_to_none=True)\n",
    "    loss.backward()\n",
    "    optimizer.step()\n",
    "\n",
    "print(loss.item())"
   ]
  },
  {
   "cell_type": "code",
   "execution_count": 51,
   "id": "3bf83850",
   "metadata": {},
   "outputs": [
    {
     "name": "stdout",
     "output_type": "stream",
     "text": [
      " 3eX!by'\"wKjvNesHlXLg'\"!DlDu-UyQ-opknyGMAI&MeN'tnswIPGEL.&?cXZJIxLaXfsYFlFEqhDgsJekj,c3JwKRHUbKx?xc\\:uoShDX,IT&MRjvQY-s D3I Jta?hicugh:xEllrByrv3W D$vdiB?3dOeF?'VY.-E\"UqD-:'UuiBElZKg;:'u'tpMc\\,bE\"hOCG$ArTeZajChoFTIwBGbdX\\\\n'.'3dms3WayjUmdX-Eekwb:a.YXNGQsFPJ' ?'pdlo,c.ldXeXpmua\\k:'KUBGnnV-g;xFTmdE\\rVdECCsrV  k:Tj'VLSKr,insJz\\ppZq;.Kg;XXSK.GEI:leNq-oi,huel?jpe;.&nAZu.\\Zpquf,\"SpIxTs-D3;'H SLNjcE\\nlOXcyCs;\"NMpN,YbWVJ;dJ3-oa;KWh3UG,bmznDv$VG'OzmMysanOu:ld$L'kVh.Kbd$!?bQ;dEaRowbRsy'k:'Oa.,MIxKI'.NxIAkV\n"
     ]
    }
   ],
   "source": [
    "print(decode(m.generate(idx = torch.zeros((1, 1), dtype=torch.long), max_new_tokens=500)[0].tolist()))"
   ]
  },
  {
   "cell_type": "code",
   "execution_count": 52,
   "id": "176ef39c",
   "metadata": {},
   "outputs": [
    {
     "name": "stdout",
     "output_type": "stream",
     "text": [
      "a=\n",
      "tensor([[1.0000, 0.0000, 0.0000],\n",
      "        [0.5000, 0.5000, 0.0000],\n",
      "        [0.3333, 0.3333, 0.3333]])\n",
      "--\n",
      "b=\n",
      "tensor([[2., 7.],\n",
      "        [6., 4.],\n",
      "        [6., 5.]])\n",
      "--\n",
      "c=\n",
      "tensor([[2.0000, 7.0000],\n",
      "        [4.0000, 5.5000],\n",
      "        [4.6667, 5.3333]])\n"
     ]
    }
   ],
   "source": [
    "# toy example illustrating how matrix multiplication can be used for a \"weighted aggregation\"\n",
    "torch.manual_seed(42)\n",
    "a = torch.tril(torch.ones(3, 3))\n",
    "a = a / torch.sum(a, 1, keepdim=True)\n",
    "b = torch.randint(0,10,(3,2)).float()\n",
    "c = a @ b\n",
    "print('a=')\n",
    "print(a)\n",
    "print('--')\n",
    "print('b=')\n",
    "print(b)\n",
    "print('--')\n",
    "print('c=')\n",
    "print(c)"
   ]
  },
  {
   "cell_type": "code",
   "execution_count": 53,
   "id": "894b366c",
   "metadata": {},
   "outputs": [
    {
     "data": {
      "text/plain": [
       "torch.Size([4, 8, 2])"
      ]
     },
     "execution_count": 53,
     "metadata": {},
     "output_type": "execute_result"
    }
   ],
   "source": [
    "# consider the following toy example:\n",
    "\n",
    "torch.manual_seed(1337)\n",
    "B,T,C = 4,8,2 # batch, time, channels\n",
    "x = torch.randn(B,T,C)\n",
    "x.shape"
   ]
  },
  {
   "cell_type": "code",
   "execution_count": 54,
   "id": "de594d74",
   "metadata": {},
   "outputs": [],
   "source": [
    "# We want x[b,t] = mean_{i<=t} x[b,i]\n",
    "xbow = torch.zeros((B,T,C))\n",
    "for b in range(B):\n",
    "    for t in range(T):\n",
    "        xprev = x[b,:t+1] # (t,C)\n",
    "        xbow[b,t] = torch.mean(xprev, 0)"
   ]
  },
  {
   "cell_type": "code",
   "execution_count": 55,
   "id": "693aa436",
   "metadata": {},
   "outputs": [
    {
     "data": {
      "text/plain": [
       "True"
      ]
     },
     "execution_count": 55,
     "metadata": {},
     "output_type": "execute_result"
    }
   ],
   "source": [
    "# version 2: using matrix multiply for a weighted aggregation\n",
    "wei = torch.tril(torch.ones(T, T))\n",
    "wei = wei / wei.sum(1, keepdim=True)\n",
    "xbow2 = wei @ x # (B, T, T) @ (B, T, C) ----> (B, T, C)\n",
    "torch.allclose(xbow, xbow2)"
   ]
  },
  {
   "cell_type": "code",
   "execution_count": 56,
   "id": "f104492d",
   "metadata": {},
   "outputs": [
    {
     "data": {
      "text/plain": [
       "True"
      ]
     },
     "execution_count": 56,
     "metadata": {},
     "output_type": "execute_result"
    }
   ],
   "source": [
    "# version 3: use Softmax\n",
    "tril = torch.tril(torch.ones(T, T))\n",
    "wei = torch.zeros((T,T))\n",
    "wei = wei.masked_fill(tril == 0, float('-inf'))\n",
    "wei = F.softmax(wei, dim=-1)\n",
    "xbow3 = wei @ x\n",
    "torch.allclose(xbow, xbow3)\n"
   ]
  },
  {
   "cell_type": "code",
   "execution_count": 57,
   "id": "65352661",
   "metadata": {},
   "outputs": [
    {
     "data": {
      "text/plain": [
       "torch.Size([4, 8, 16])"
      ]
     },
     "execution_count": 57,
     "metadata": {},
     "output_type": "execute_result"
    }
   ],
   "source": [
    "# version 4: self-attention!\n",
    "torch.manual_seed(1337)\n",
    "B,T,C = 4,8,32 # batch, time, channels\n",
    "x = torch.randn(B,T,C)\n",
    "\n",
    "# let's see a single Head perform self-attention\n",
    "head_size = 16\n",
    "key = nn.Linear(C, head_size, bias=False)\n",
    "query = nn.Linear(C, head_size, bias=False)\n",
    "value = nn.Linear(C, head_size, bias=False)\n",
    "k = key(x)   # (B, T, 16)\n",
    "q = query(x) # (B, T, 16)\n",
    "wei =  q @ k.transpose(-2, -1) # (B, T, 16) @ (B, 16, T) ---> (B, T, T)\n",
    "\n",
    "tril = torch.tril(torch.ones(T, T))\n",
    "#wei = torch.zeros((T,T))\n",
    "wei = wei.masked_fill(tril == 0, float('-inf'))\n",
    "wei = F.softmax(wei, dim=-1)\n",
    "\n",
    "v = value(x)\n",
    "out = wei @ v\n",
    "#out = wei @ x\n",
    "\n",
    "out.shape"
   ]
  },
  {
   "cell_type": "code",
   "execution_count": 58,
   "id": "db13165f",
   "metadata": {},
   "outputs": [
    {
     "data": {
      "text/plain": [
       "tensor([[1.0000, 0.0000, 0.0000, 0.0000, 0.0000, 0.0000, 0.0000, 0.0000],\n",
       "        [0.1574, 0.8426, 0.0000, 0.0000, 0.0000, 0.0000, 0.0000, 0.0000],\n",
       "        [0.2088, 0.1646, 0.6266, 0.0000, 0.0000, 0.0000, 0.0000, 0.0000],\n",
       "        [0.5792, 0.1187, 0.1889, 0.1131, 0.0000, 0.0000, 0.0000, 0.0000],\n",
       "        [0.0294, 0.1052, 0.0469, 0.0276, 0.7909, 0.0000, 0.0000, 0.0000],\n",
       "        [0.0176, 0.2689, 0.0215, 0.0089, 0.6812, 0.0019, 0.0000, 0.0000],\n",
       "        [0.1691, 0.4066, 0.0438, 0.0416, 0.1048, 0.2012, 0.0329, 0.0000],\n",
       "        [0.0210, 0.0843, 0.0555, 0.2297, 0.0573, 0.0709, 0.2423, 0.2391]],\n",
       "       grad_fn=<SelectBackward0>)"
      ]
     },
     "execution_count": 58,
     "metadata": {},
     "output_type": "execute_result"
    }
   ],
   "source": [
    "wei[0]"
   ]
  },
  {
   "cell_type": "code",
   "execution_count": 59,
   "id": "f3c7253b",
   "metadata": {},
   "outputs": [],
   "source": [
    "k = torch.randn(B,T,head_size)\n",
    "q = torch.randn(B,T,head_size)\n",
    "wei = q @ k.transpose(-2, -1) * head_size**-0.5"
   ]
  },
  {
   "cell_type": "code",
   "execution_count": 60,
   "id": "d62c5d47",
   "metadata": {},
   "outputs": [
    {
     "data": {
      "text/plain": [
       "tensor(1.0449)"
      ]
     },
     "execution_count": 60,
     "metadata": {},
     "output_type": "execute_result"
    }
   ],
   "source": [
    "k.var()"
   ]
  },
  {
   "cell_type": "code",
   "execution_count": 61,
   "id": "03143293",
   "metadata": {},
   "outputs": [
    {
     "data": {
      "text/plain": [
       "tensor(1.0700)"
      ]
     },
     "execution_count": 61,
     "metadata": {},
     "output_type": "execute_result"
    }
   ],
   "source": [
    "q.var()"
   ]
  },
  {
   "cell_type": "code",
   "execution_count": 62,
   "id": "2432cb00",
   "metadata": {},
   "outputs": [
    {
     "data": {
      "text/plain": [
       "tensor(1.0918)"
      ]
     },
     "execution_count": 62,
     "metadata": {},
     "output_type": "execute_result"
    }
   ],
   "source": [
    "wei.var()"
   ]
  },
  {
   "cell_type": "code",
   "execution_count": 63,
   "id": "d9aaf464",
   "metadata": {},
   "outputs": [
    {
     "data": {
      "text/plain": [
       "tensor([0.1925, 0.1426, 0.2351, 0.1426, 0.2872])"
      ]
     },
     "execution_count": 63,
     "metadata": {},
     "output_type": "execute_result"
    }
   ],
   "source": [
    "torch.softmax(torch.tensor([0.1, -0.2, 0.3, -0.2, 0.5]), dim=-1)"
   ]
  },
  {
   "cell_type": "code",
   "execution_count": 64,
   "id": "9c1073d1",
   "metadata": {},
   "outputs": [
    {
     "data": {
      "text/plain": [
       "tensor([0.0326, 0.0030, 0.1615, 0.0030, 0.8000])"
      ]
     },
     "execution_count": 64,
     "metadata": {},
     "output_type": "execute_result"
    }
   ],
   "source": [
    "torch.softmax(torch.tensor([0.1, -0.2, 0.3, -0.2, 0.5])*8, dim=-1) # gets too peaky, converges to one-hot"
   ]
  },
  {
   "cell_type": "code",
   "execution_count": 65,
   "id": "b7544e3d",
   "metadata": {},
   "outputs": [
    {
     "data": {
      "text/plain": [
       "torch.Size([32, 100])"
      ]
     },
     "execution_count": 65,
     "metadata": {},
     "output_type": "execute_result"
    }
   ],
   "source": [
    "class LayerNorm1d: # (used to be BatchNorm1d)\n",
    "  \n",
    "  def __init__(self, dim, eps=1e-5, momentum=0.1):\n",
    "    self.eps = eps\n",
    "    self.gamma = torch.ones(dim)\n",
    "    self.beta = torch.zeros(dim)\n",
    "  \n",
    "  def __call__(self, x):\n",
    "    # calculate the forward pass\n",
    "    xmean = x.mean(1, keepdim=True) # batch mean\n",
    "    xvar = x.var(1, keepdim=True) # batch variance\n",
    "    xhat = (x - xmean) / torch.sqrt(xvar + self.eps) # normalize to unit variance\n",
    "    self.out = self.gamma * xhat + self.beta\n",
    "    return self.out\n",
    "  \n",
    "  def parameters(self):\n",
    "    return [self.gamma, self.beta]\n",
    "\n",
    "torch.manual_seed(1337)\n",
    "module = LayerNorm1d(100)\n",
    "x = torch.randn(32, 100) # batch size 32 of 100-dimensional vectors\n",
    "x = module(x)\n",
    "x.shape"
   ]
  },
  {
   "cell_type": "code",
   "execution_count": 66,
   "id": "5b16c674",
   "metadata": {},
   "outputs": [
    {
     "data": {
      "text/plain": [
       "(tensor(0.1469), tensor(0.8803))"
      ]
     },
     "execution_count": 66,
     "metadata": {},
     "output_type": "execute_result"
    }
   ],
   "source": [
    "x[:,0].mean(), x[:,0].std() # mean,std of one feature across all batch inputs"
   ]
  },
  {
   "cell_type": "code",
   "execution_count": 67,
   "id": "cf3eab48",
   "metadata": {},
   "outputs": [
    {
     "data": {
      "text/plain": [
       "(tensor(-3.5763e-09), tensor(1.0000))"
      ]
     },
     "execution_count": 67,
     "metadata": {},
     "output_type": "execute_result"
    }
   ],
   "source": [
    "x[0,:].mean(), x[0,:].std() # mean,std of a single input from the batch, of its features"
   ]
  },
  {
   "cell_type": "code",
   "execution_count": 68,
   "id": "3f8f5ea1",
   "metadata": {},
   "outputs": [
    {
     "name": "stdout",
     "output_type": "stream",
     "text": [
      "0.209858 M parameters\n",
      "step 0: train loss 4.3016, val loss 4.2991\n",
      "step 100: train loss 2.5807, val loss 2.5761\n",
      "step 200: train loss 2.4337, val loss 2.4267\n",
      "step 300: train loss 2.3669, val loss 2.3617\n",
      "step 400: train loss 2.2943, val loss 2.2948\n",
      "step 500: train loss 2.2432, val loss 2.2502\n",
      "step 600: train loss 2.2059, val loss 2.2051\n",
      "step 700: train loss 2.1615, val loss 2.1621\n",
      "step 800: train loss 2.1204, val loss 2.1336\n",
      "step 900: train loss 2.0953, val loss 2.1115\n",
      "step 1000: train loss 2.0646, val loss 2.0826\n",
      "step 1100: train loss 2.0396, val loss 2.0692\n",
      "step 1200: train loss 2.0174, val loss 2.0326\n",
      "step 1300: train loss 1.9778, val loss 2.0166\n",
      "step 1400: train loss 1.9607, val loss 2.0184\n",
      "step 1500: train loss 1.9216, val loss 1.9823\n",
      "step 1600: train loss 1.9303, val loss 1.9757\n",
      "step 1700: train loss 1.8843, val loss 1.9569\n",
      "step 1800: train loss 1.8751, val loss 1.9515\n",
      "step 1900: train loss 1.8617, val loss 1.9415\n",
      "step 2000: train loss 1.8593, val loss 1.9314\n",
      "step 2100: train loss 1.8381, val loss 1.9346\n",
      "step 2200: train loss 1.8230, val loss 1.9107\n",
      "step 2300: train loss 1.8040, val loss 1.8933\n",
      "step 2400: train loss 1.7923, val loss 1.8880\n",
      "step 2500: train loss 1.7860, val loss 1.8888\n",
      "step 2600: train loss 1.7669, val loss 1.8767\n",
      "step 2700: train loss 1.7552, val loss 1.8633\n",
      "step 2800: train loss 1.7488, val loss 1.8738\n",
      "step 2900: train loss 1.7470, val loss 1.8477\n",
      "step 3000: train loss 1.7293, val loss 1.8596\n",
      "step 3100: train loss 1.7355, val loss 1.8585\n",
      "step 3200: train loss 1.7181, val loss 1.8381\n",
      "step 3300: train loss 1.7033, val loss 1.8277\n",
      "step 3400: train loss 1.7059, val loss 1.8310\n",
      "step 3500: train loss 1.6960, val loss 1.8156\n",
      "step 3600: train loss 1.6774, val loss 1.8199\n",
      "step 3700: train loss 1.6750, val loss 1.8132\n",
      "step 3800: train loss 1.6779, val loss 1.8072\n",
      "step 3900: train loss 1.6787, val loss 1.8175\n",
      "step 4000: train loss 1.6725, val loss 1.8221\n",
      "step 4100: train loss 1.6655, val loss 1.7895\n",
      "step 4200: train loss 1.6550, val loss 1.8028\n",
      "step 4300: train loss 1.6561, val loss 1.7892\n",
      "step 4400: train loss 1.6380, val loss 1.7786\n",
      "step 4500: train loss 1.6329, val loss 1.7802\n",
      "step 4600: train loss 1.6409, val loss 1.7664\n",
      "step 4700: train loss 1.6266, val loss 1.7960\n",
      "step 4800: train loss 1.6267, val loss 1.7791\n",
      "step 4900: train loss 1.6242, val loss 1.7814\n",
      "step 4999: train loss 1.6201, val loss 1.7660\n",
      " thee:\\nWho's vrarices a forth parser'd one duke foreswinin's is mane!\\n\\nELBOWARD:3 I do that as ruch, I'll nave, and they and there, that my fourage come but ell world;\\nFricter'cefore thereun for his well.\\n\\nCARIA:\\nLood sad to his.\\n\\nHENHADY BOLINGBROKE:\\nNot is the world a good-hold to know we world:\\nWhich neverin'd sict; as say my strats!\\n\\nGLOUCENE:\\nville's myself father cowase breather's tower fire here.\\n\\nSKICINIUS:\\nAsist, my anay!'\\n\\nShe a f-sear:\\nPray my know pitues, well.\\n\\nANGELO:\\nCamowasom'd.\\n\\nDUKE VINCENTIO:\\nAnd that man blasst dest that citon in up your justspect in a vantase him\\nAspitaighs them Pleaselaw up, and me sighness:\\nForbleven my worldry, arm.\\n\\nISABELLA:\\nOlanoes! Master for life a calouse; by head!\\n\\nDUKE VINCENNIO:\\nSanness he queer your fawafireworness?\\n\\nTalk Ywar-'The nothle so will sun?\\n\\nGLOUKE VI\\n\\nSBRY:\\nHe is shall I warth agelo stelcomeft for yourridoly's bodyam, nobles, and arm countring of your Kuques, in the nupon thou-mays. Lord we neverio, forthy fanch daid\\nwill him lady'slesh govent to yoush:\\nGot theme fashow it sament!\\n\\nMARIA:\\nRthall it fayour stroughings; I had timals: fisporter'd de't, thy earth name.\\n\\nCLIFly:\\nThe o'en he mactol\\nWith plitte: at the hordant whe hends play, you creath'd of thender.\\n\\nGLOUCESTER:\\nTho the deated that, think the worthquids!\\nOr O what I swark not spelish seem, the respeech'd fortay the prisuct the both you?\\n\\nGLOUCESTER:\\nA shepplock him young. His my noble moath.\\n\\nServch Setrusse pyornachens;\\nAnd father be a a Barrectiso' a braved bort he semble us cheard.\\n\\nGLOUCESTER:\\nLoold none youth my with a ppervastase Jushes to would all me pares as of us newith.\\nBut the applay: he shall meenem, with Canitius. do youncleow you, the whort my: forse retcon's.\\n\\nBAUFILIA:\\nO, but I'll gatterch you our spown:\\nOfftend uponchse is. Gulose, that I puncrel opless bull and beathst name me,--gremett for hell\\nDush this mecons thy busenving agoiting of Rison, what I his us\n"
     ]
    }
   ],
   "source": [
    "import torch\n",
    "import torch.nn as nn\n",
    "from torch.nn import functional as F\n",
    "import pandas as pd\n",
    "import requests\n",
    "import io\n",
    "\n",
    "# hyperparameters\n",
    "batch_size = 16 # how many independent sequences will we process in parallel?\n",
    "block_size = 32 # what is the maximum context length for predictions?\n",
    "max_iters = 5000\n",
    "eval_interval = 100\n",
    "learning_rate = 1e-3\n",
    "device = 'cuda' if torch.cuda.is_available() else 'cpu'\n",
    "eval_iters = 200\n",
    "n_embd = 64\n",
    "n_head = 4\n",
    "n_layer = 4\n",
    "dropout = 0.0\n",
    "# ------------\n",
    "\n",
    "torch.manual_seed(1337)\n",
    "\n",
    "\n",
    "url = \"https://raw.githubusercontent.com/karpathy/char-rnn/master/data/tinyshakespeare/input.txt\" # Make sure the url is the raw version of the file on GitHub\n",
    "text = requests.get(url).content\n",
    "text = str(text)\n",
    "\n",
    "\n",
    "# here are all the unique characters that occur in this text\n",
    "chars = sorted(list(set(text)))\n",
    "vocab_size = len(chars)\n",
    "# create a mapping from characters to integers\n",
    "stoi = { ch:i for i,ch in enumerate(chars) }\n",
    "itos = { i:ch for i,ch in enumerate(chars) }\n",
    "encode = lambda s: [stoi[c] for c in s] # encoder: take a string, output a list of integers\n",
    "decode = lambda l: ''.join([itos[i] for i in l]) # decoder: take a list of integers, output a string\n",
    "\n",
    "# Train and test splits\n",
    "data = torch.tensor(encode(text), dtype=torch.long)\n",
    "n = int(0.9*len(data)) # first 90% will be train, rest val\n",
    "train_data = data[:n]\n",
    "val_data = data[n:]\n",
    "\n",
    "# data loading\n",
    "def get_batch(split):\n",
    "    # generate a small batch of data of inputs x and targets y\n",
    "    data = train_data if split == 'train' else val_data\n",
    "    ix = torch.randint(len(data) - block_size, (batch_size,))\n",
    "    x = torch.stack([data[i:i+block_size] for i in ix])\n",
    "    y = torch.stack([data[i+1:i+block_size+1] for i in ix])\n",
    "    x, y = x.to(device), y.to(device)\n",
    "    return x, y\n",
    "\n",
    "@torch.no_grad()\n",
    "def estimate_loss():\n",
    "    out = {}\n",
    "    model.eval()\n",
    "    for split in ['train', 'val']:\n",
    "        losses = torch.zeros(eval_iters)\n",
    "        for k in range(eval_iters):\n",
    "            X, Y = get_batch(split)\n",
    "            logits, loss = model(X, Y)\n",
    "            losses[k] = loss.item()\n",
    "        out[split] = losses.mean()\n",
    "    model.train()\n",
    "    return out\n",
    "\n",
    "class Head(nn.Module):\n",
    "    \"\"\" one head of self-attention \"\"\"\n",
    "\n",
    "    def __init__(self, head_size):\n",
    "        super().__init__()\n",
    "        self.key = nn.Linear(n_embd, head_size, bias=False)\n",
    "        self.query = nn.Linear(n_embd, head_size, bias=False)\n",
    "        self.value = nn.Linear(n_embd, head_size, bias=False)\n",
    "        self.register_buffer('tril', torch.tril(torch.ones(block_size, block_size)))\n",
    "\n",
    "        self.dropout = nn.Dropout(dropout)\n",
    "\n",
    "    def forward(self, x):\n",
    "        B,T,C = x.shape\n",
    "        k = self.key(x)   # (B,T,C)\n",
    "        q = self.query(x) # (B,T,C)\n",
    "        # compute attention scores (\"affinities\")\n",
    "        wei = q @ k.transpose(-2,-1) * C**-0.5 # (B, T, C) @ (B, C, T) -> (B, T, T)\n",
    "        wei = wei.masked_fill(self.tril[:T, :T] == 0, float('-inf')) # (B, T, T)\n",
    "        wei = F.softmax(wei, dim=-1) # (B, T, T)\n",
    "        wei = self.dropout(wei)\n",
    "        # perform the weighted aggregation of the values\n",
    "        v = self.value(x) # (B,T,C)\n",
    "        out = wei @ v # (B, T, T) @ (B, T, C) -> (B, T, C)\n",
    "        return out\n",
    "\n",
    "class MultiHeadAttention(nn.Module):\n",
    "    \"\"\" multiple heads of self-attention in parallel \"\"\"\n",
    "\n",
    "    def __init__(self, num_heads, head_size):\n",
    "        super().__init__()\n",
    "        self.heads = nn.ModuleList([Head(head_size) for _ in range(num_heads)])\n",
    "        self.proj = nn.Linear(n_embd, n_embd)\n",
    "        self.dropout = nn.Dropout(dropout)\n",
    "\n",
    "    def forward(self, x):\n",
    "        out = torch.cat([h(x) for h in self.heads], dim=-1)\n",
    "        out = self.dropout(self.proj(out))\n",
    "        return out\n",
    "\n",
    "class FeedFoward(nn.Module):\n",
    "    \"\"\" a simple linear layer followed by a non-linearity \"\"\"\n",
    "\n",
    "    def __init__(self, n_embd):\n",
    "        super().__init__()\n",
    "        self.net = nn.Sequential(\n",
    "            nn.Linear(n_embd, 4 * n_embd),\n",
    "            nn.ReLU(),\n",
    "            nn.Linear(4 * n_embd, n_embd),\n",
    "            nn.Dropout(dropout),\n",
    "        )\n",
    "\n",
    "    def forward(self, x):\n",
    "        return self.net(x)\n",
    "\n",
    "class Block(nn.Module):\n",
    "    \"\"\" Transformer block: communication followed by computation \"\"\"\n",
    "\n",
    "    def __init__(self, n_embd, n_head):\n",
    "        # n_embd: embedding dimension, n_head: the number of heads we'd like\n",
    "        super().__init__()\n",
    "        head_size = n_embd // n_head\n",
    "        self.sa = MultiHeadAttention(n_head, head_size)\n",
    "        self.ffwd = FeedFoward(n_embd)\n",
    "        self.ln1 = nn.LayerNorm(n_embd)\n",
    "        self.ln2 = nn.LayerNorm(n_embd)\n",
    "\n",
    "    def forward(self, x):\n",
    "        x = x + self.sa(self.ln1(x))\n",
    "        x = x + self.ffwd(self.ln2(x))\n",
    "        return x\n",
    "\n",
    "# super simple bigram model\n",
    "class BigramLanguageModel(nn.Module):\n",
    "\n",
    "    def __init__(self):\n",
    "        super().__init__()\n",
    "        # each token directly reads off the logits for the next token from a lookup table\n",
    "        self.token_embedding_table = nn.Embedding(vocab_size, n_embd)\n",
    "        self.position_embedding_table = nn.Embedding(block_size, n_embd)\n",
    "        self.blocks = nn.Sequential(*[Block(n_embd, n_head=n_head) for _ in range(n_layer)])\n",
    "        self.ln_f = nn.LayerNorm(n_embd) # final layer norm\n",
    "        self.lm_head = nn.Linear(n_embd, vocab_size)\n",
    "\n",
    "    def forward(self, idx, targets=None):\n",
    "        B, T = idx.shape\n",
    "\n",
    "        # idx and targets are both (B,T) tensor of integers\n",
    "        tok_emb = self.token_embedding_table(idx) # (B,T,C)\n",
    "        pos_emb = self.position_embedding_table(torch.arange(T, device=device)) # (T,C)\n",
    "        x = tok_emb + pos_emb # (B,T,C)\n",
    "        x = self.blocks(x) # (B,T,C)\n",
    "        x = self.ln_f(x) # (B,T,C)\n",
    "        logits = self.lm_head(x) # (B,T,vocab_size)\n",
    "\n",
    "        if targets is None:\n",
    "            loss = None\n",
    "        else:\n",
    "            B, T, C = logits.shape\n",
    "            logits = logits.view(B*T, C)\n",
    "            targets = targets.view(B*T)\n",
    "            loss = F.cross_entropy(logits, targets)\n",
    "\n",
    "        return logits, loss\n",
    "\n",
    "    def generate(self, idx, max_new_tokens):\n",
    "        # idx is (B, T) array of indices in the current context\n",
    "        for _ in range(max_new_tokens):\n",
    "            # crop idx to the last block_size tokens\n",
    "            idx_cond = idx[:, -block_size:]\n",
    "            # get the predictions\n",
    "            logits, loss = self(idx_cond)\n",
    "            # focus only on the last time step\n",
    "            logits = logits[:, -1, :] # becomes (B, C)\n",
    "            # apply softmax to get probabilities\n",
    "            probs = F.softmax(logits, dim=-1) # (B, C)\n",
    "            # sample from the distribution\n",
    "            idx_next = torch.multinomial(probs, num_samples=1) # (B, 1)\n",
    "            # append sampled index to the running sequence\n",
    "            idx = torch.cat((idx, idx_next), dim=1) # (B, T+1)\n",
    "        return idx\n",
    "\n",
    "model = BigramLanguageModel()\n",
    "m = model.to(device)\n",
    "# print the number of parameters in the model\n",
    "print(sum(p.numel() for p in m.parameters())/1e6, 'M parameters')\n",
    "\n",
    "# create a PyTorch optimizer\n",
    "optimizer = torch.optim.AdamW(model.parameters(), lr=learning_rate)\n",
    "\n",
    "for iter in range(max_iters):\n",
    "\n",
    "    # every once in a while evaluate the loss on train and val sets\n",
    "    if iter % eval_interval == 0 or iter == max_iters - 1:\n",
    "        losses = estimate_loss()\n",
    "        print(f\"step {iter}: train loss {losses['train']:.4f}, val loss {losses['val']:.4f}\")\n",
    "\n",
    "    # sample a batch of data\n",
    "    xb, yb = get_batch('train')\n",
    "\n",
    "    # evaluate the loss\n",
    "    logits, loss = model(xb, yb)\n",
    "    optimizer.zero_grad(set_to_none=True)\n",
    "    loss.backward()\n",
    "    optimizer.step()\n",
    "\n",
    "# generate from the model\n",
    "context = torch.zeros((1, 1), dtype=torch.long, device=device)\n",
    "print(decode(m.generate(context, max_new_tokens=2000)[0].tolist()))\n"
   ]
  }
 ],
 "metadata": {
  "kernelspec": {
   "display_name": "Python 3 (ipykernel)",
   "language": "python",
   "name": "python3"
  },
  "language_info": {
   "codemirror_mode": {
    "name": "ipython",
    "version": 3
   },
   "file_extension": ".py",
   "mimetype": "text/x-python",
   "name": "python",
   "nbconvert_exporter": "python",
   "pygments_lexer": "ipython3",
   "version": "3.10.9"
  }
 },
 "nbformat": 4,
 "nbformat_minor": 5
}
